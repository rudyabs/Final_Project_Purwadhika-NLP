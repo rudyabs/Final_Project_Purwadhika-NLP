{
 "cells": [
  {
   "cell_type": "code",
   "execution_count": 1,
   "metadata": {},
   "outputs": [],
   "source": [
    "import pandas as pd\n",
    "import numpy as np"
   ]
  },
  {
   "cell_type": "code",
   "execution_count": 2,
   "metadata": {},
   "outputs": [],
   "source": [
    "import matplotlib.pyplot as plt\n",
    "import seaborn as sns"
   ]
  },
  {
   "cell_type": "code",
   "execution_count": 3,
   "metadata": {},
   "outputs": [],
   "source": [
    "%matplotlib inline"
   ]
  },
  {
   "cell_type": "code",
   "execution_count": 4,
   "metadata": {},
   "outputs": [],
   "source": [
    "df = pd.read_csv('Twitter_Emotion_Dataset.csv')"
   ]
  },
  {
   "cell_type": "code",
   "execution_count": 5,
   "metadata": {},
   "outputs": [
    {
     "data": {
      "text/html": [
       "<div>\n",
       "<style scoped>\n",
       "    .dataframe tbody tr th:only-of-type {\n",
       "        vertical-align: middle;\n",
       "    }\n",
       "\n",
       "    .dataframe tbody tr th {\n",
       "        vertical-align: top;\n",
       "    }\n",
       "\n",
       "    .dataframe thead th {\n",
       "        text-align: right;\n",
       "    }\n",
       "</style>\n",
       "<table border=\"1\" class=\"dataframe\">\n",
       "  <thead>\n",
       "    <tr style=\"text-align: right;\">\n",
       "      <th></th>\n",
       "      <th>label</th>\n",
       "      <th>tweet</th>\n",
       "    </tr>\n",
       "  </thead>\n",
       "  <tbody>\n",
       "    <tr>\n",
       "      <th>0</th>\n",
       "      <td>anger</td>\n",
       "      <td>Soal jln Jatibaru,polisi tdk bs GERTAK gubernu...</td>\n",
       "    </tr>\n",
       "    <tr>\n",
       "      <th>1</th>\n",
       "      <td>anger</td>\n",
       "      <td>Sesama cewe lho (kayaknya), harusnya bisa lebi...</td>\n",
       "    </tr>\n",
       "    <tr>\n",
       "      <th>2</th>\n",
       "      <td>happy</td>\n",
       "      <td>Kepingin gudeg mbarek Bu hj. Amad Foto dari go...</td>\n",
       "    </tr>\n",
       "    <tr>\n",
       "      <th>3</th>\n",
       "      <td>anger</td>\n",
       "      <td>Jln Jatibaru,bagian dari wilayah Tn Abang.Peng...</td>\n",
       "    </tr>\n",
       "    <tr>\n",
       "      <th>4</th>\n",
       "      <td>happy</td>\n",
       "      <td>Sharing pengalaman aja, kemarin jam 18.00 bata...</td>\n",
       "    </tr>\n",
       "  </tbody>\n",
       "</table>\n",
       "</div>"
      ],
      "text/plain": [
       "   label                                              tweet\n",
       "0  anger  Soal jln Jatibaru,polisi tdk bs GERTAK gubernu...\n",
       "1  anger  Sesama cewe lho (kayaknya), harusnya bisa lebi...\n",
       "2  happy  Kepingin gudeg mbarek Bu hj. Amad Foto dari go...\n",
       "3  anger  Jln Jatibaru,bagian dari wilayah Tn Abang.Peng...\n",
       "4  happy  Sharing pengalaman aja, kemarin jam 18.00 bata..."
      ]
     },
     "execution_count": 5,
     "metadata": {},
     "output_type": "execute_result"
    }
   ],
   "source": [
    "df.head(5)"
   ]
  },
  {
   "cell_type": "code",
   "execution_count": 6,
   "metadata": {},
   "outputs": [
    {
     "data": {
      "text/plain": [
       "anger      1101\n",
       "happy      1017\n",
       "sadness     997\n",
       "fear        649\n",
       "love        637\n",
       "Name: label, dtype: int64"
      ]
     },
     "execution_count": 6,
     "metadata": {},
     "output_type": "execute_result"
    }
   ],
   "source": [
    "df['label'].value_counts()"
   ]
  },
  {
   "cell_type": "code",
   "execution_count": 7,
   "metadata": {},
   "outputs": [],
   "source": [
    "df['length'] = df['tweet'].apply(len)"
   ]
  },
  {
   "cell_type": "code",
   "execution_count": 8,
   "metadata": {},
   "outputs": [
    {
     "data": {
      "text/plain": [
       "<matplotlib.axes._subplots.AxesSubplot at 0x21d8f333a90>"
      ]
     },
     "execution_count": 8,
     "metadata": {},
     "output_type": "execute_result"
    },
    {
     "data": {
      "image/png": "[encoded data removed]",
      "text/plain": [
       "<Figure size 432x288 with 1 Axes>"
      ]
     },
     "metadata": {
      "needs_background": "light"
     },
     "output_type": "display_data"
    }
   ],
   "source": [
    "df['length'].plot(bins=75,kind='hist')"
   ]
  },
  {
   "cell_type": "code",
   "execution_count": 9,
   "metadata": {},
   "outputs": [
    {
     "data": {
      "text/plain": [
       "array([[<matplotlib.axes._subplots.AxesSubplot object at 0x0000021D8F819B38>,\n",
       "        <matplotlib.axes._subplots.AxesSubplot object at 0x0000021D8F86DE48>],\n",
       "       [<matplotlib.axes._subplots.AxesSubplot object at 0x0000021D8F8A7438>,\n",
       "        <matplotlib.axes._subplots.AxesSubplot object at 0x0000021D8F8D99E8>],\n",
       "       [<matplotlib.axes._subplots.AxesSubplot object at 0x0000021D8F90CF98>,\n",
       "        <matplotlib.axes._subplots.AxesSubplot object at 0x0000021D8F94A588>]],\n",
       "      dtype=object)"
      ]
     },
     "execution_count": 9,
     "metadata": {},
     "output_type": "execute_result"
    },
    {
     "data": {
      "image/png": "[encoded data removed]",
      "text/plain": [
       "<Figure size 1296x576 with 6 Axes>"
      ]
     },
     "metadata": {
      "needs_background": "light"
     },
     "output_type": "display_data"
    }
   ],
   "source": [
    "df.hist(column='length',by='label',bins=100,figsize=(18,8))"
   ]
  },
  {
   "cell_type": "code",
   "execution_count": 10,
   "metadata": {},
   "outputs": [
    {
     "data": {
      "text/html": [
       "<div>\n",
       "<style scoped>\n",
       "    .dataframe tbody tr th:only-of-type {\n",
       "        vertical-align: middle;\n",
       "    }\n",
       "\n",
       "    .dataframe tbody tr th {\n",
       "        vertical-align: top;\n",
       "    }\n",
       "\n",
       "    .dataframe thead tr th {\n",
       "        text-align: left;\n",
       "    }\n",
       "\n",
       "    .dataframe thead tr:last-of-type th {\n",
       "        text-align: right;\n",
       "    }\n",
       "</style>\n",
       "<table border=\"1\" class=\"dataframe\">\n",
       "  <thead>\n",
       "    <tr>\n",
       "      <th></th>\n",
       "      <th colspan=\"8\" halign=\"left\">length</th>\n",
       "    </tr>\n",
       "    <tr>\n",
       "      <th></th>\n",
       "      <th>count</th>\n",
       "      <th>mean</th>\n",
       "      <th>std</th>\n",
       "      <th>min</th>\n",
       "      <th>25%</th>\n",
       "      <th>50%</th>\n",
       "      <th>75%</th>\n",
       "      <th>max</th>\n",
       "    </tr>\n",
       "    <tr>\n",
       "      <th>label</th>\n",
       "      <th></th>\n",
       "      <th></th>\n",
       "      <th></th>\n",
       "      <th></th>\n",
       "      <th></th>\n",
       "      <th></th>\n",
       "      <th></th>\n",
       "      <th></th>\n",
       "    </tr>\n",
       "  </thead>\n",
       "  <tbody>\n",
       "    <tr>\n",
       "      <th>anger</th>\n",
       "      <td>1101.0</td>\n",
       "      <td>187.948229</td>\n",
       "      <td>56.739309</td>\n",
       "      <td>18.0</td>\n",
       "      <td>149.0</td>\n",
       "      <td>189.0</td>\n",
       "      <td>235.0</td>\n",
       "      <td>284.0</td>\n",
       "    </tr>\n",
       "    <tr>\n",
       "      <th>fear</th>\n",
       "      <td>649.0</td>\n",
       "      <td>183.790447</td>\n",
       "      <td>50.405417</td>\n",
       "      <td>33.0</td>\n",
       "      <td>148.0</td>\n",
       "      <td>179.0</td>\n",
       "      <td>221.0</td>\n",
       "      <td>287.0</td>\n",
       "    </tr>\n",
       "    <tr>\n",
       "      <th>happy</th>\n",
       "      <td>1017.0</td>\n",
       "      <td>178.261554</td>\n",
       "      <td>56.445033</td>\n",
       "      <td>19.0</td>\n",
       "      <td>143.0</td>\n",
       "      <td>173.0</td>\n",
       "      <td>218.0</td>\n",
       "      <td>500.0</td>\n",
       "    </tr>\n",
       "    <tr>\n",
       "      <th>love</th>\n",
       "      <td>637.0</td>\n",
       "      <td>180.249608</td>\n",
       "      <td>57.396931</td>\n",
       "      <td>16.0</td>\n",
       "      <td>144.0</td>\n",
       "      <td>173.0</td>\n",
       "      <td>226.0</td>\n",
       "      <td>382.0</td>\n",
       "    </tr>\n",
       "    <tr>\n",
       "      <th>sadness</th>\n",
       "      <td>997.0</td>\n",
       "      <td>180.752257</td>\n",
       "      <td>55.531223</td>\n",
       "      <td>12.0</td>\n",
       "      <td>149.0</td>\n",
       "      <td>176.0</td>\n",
       "      <td>221.0</td>\n",
       "      <td>288.0</td>\n",
       "    </tr>\n",
       "  </tbody>\n",
       "</table>\n",
       "</div>"
      ],
      "text/plain": [
       "         length                                                         \n",
       "          count        mean        std   min    25%    50%    75%    max\n",
       "label                                                                   \n",
       "anger    1101.0  187.948229  56.739309  18.0  149.0  189.0  235.0  284.0\n",
       "fear      649.0  183.790447  50.405417  33.0  148.0  179.0  221.0  287.0\n",
       "happy    1017.0  178.261554  56.445033  19.0  143.0  173.0  218.0  500.0\n",
       "love      637.0  180.249608  57.396931  16.0  144.0  173.0  226.0  382.0\n",
       "sadness   997.0  180.752257  55.531223  12.0  149.0  176.0  221.0  288.0"
      ]
     },
     "execution_count": 10,
     "metadata": {},
     "output_type": "execute_result"
    }
   ],
   "source": [
    "df.groupby('label').describe()"
   ]
  },
  {
   "cell_type": "code",
   "execution_count": 11,
   "metadata": {},
   "outputs": [
    {
     "data": {
      "text/plain": [
       "'Acara tahunan \"Sanusi Family\", ini lah wajah para anak, cucu, cucu menantu, dan cicit terempong. Smg thn berikutnya bs makin kompak dan lengkap #7-8juli2018 [URL]\\nanger;Wkwkwkw Keknya dah seminggu lebih meledak2 mulu. Emang orang sekitar gue pada gblk atau emang gaada otaknya dari dulu cuma gue nya yg sabar\\nsadness;sabar ya boy kamu slalu d hina tmanku pdhal kamu ndak salah apa\"\" kamu slalu d bipang manusia lastik tpikan kamu bukan manusia plastik. Kapan temanku tdak mrnghinamu boy hwaiting boy\"'"
      ]
     },
     "execution_count": 11,
     "metadata": {},
     "output_type": "execute_result"
    }
   ],
   "source": [
    "df[df['length']==500]['tweet'].iloc[0]"
   ]
  },
  {
   "cell_type": "code",
   "execution_count": 12,
   "metadata": {},
   "outputs": [],
   "source": [
    "from sklearn.model_selection import train_test_split"
   ]
  },
  {
   "cell_type": "code",
   "execution_count": 13,
   "metadata": {},
   "outputs": [],
   "source": [
    "X = df['tweet']\n",
    "y = df['label']"
   ]
  },
  {
   "cell_type": "code",
   "execution_count": 14,
   "metadata": {},
   "outputs": [],
   "source": [
    "X_train, X_test, y_train, y_test = train_test_split(X, y, test_size=0.20, random_state=42)"
   ]
  },
  {
   "cell_type": "code",
   "execution_count": 15,
   "metadata": {},
   "outputs": [],
   "source": [
    "from sklearn.feature_extraction.text import CountVectorizer, TfidfTransformer\n",
    "from sklearn.naive_bayes import MultinomialNB\n",
    "from sklearn.naive_bayes import ComplementNB\n",
    "from sklearn.linear_model import SGDClassifier\n",
    "from sklearn.linear_model import LogisticRegression\n",
    "from sklearn.pipeline import Pipeline\n",
    "from sklearn.preprocessing import StandardScaler"
   ]
  },
  {
   "cell_type": "code",
   "execution_count": 16,
   "metadata": {},
   "outputs": [],
   "source": [
    "# dikarenakan kata dari tweet yang sangat beragam membuat proses tfidf menjadi tidak efektif\n",
    "pipeline = Pipeline([\n",
    "    ('cv',CountVectorizer()),\n",
    "    ('tfidf',TfidfTransformer()),\n",
    "    ('classifier',MultinomialNB())\n",
    "])"
   ]
  },
  {
   "cell_type": "code",
   "execution_count": 17,
   "metadata": {},
   "outputs": [
    {
     "data": {
      "text/plain": [
       "Pipeline(memory=None,\n",
       "         steps=[('cv',\n",
       "                 CountVectorizer(analyzer='word', binary=False,\n",
       "                                 decode_error='strict',\n",
       "                                 dtype=<class 'numpy.int64'>, encoding='utf-8',\n",
       "                                 input='content', lowercase=True, max_df=1.0,\n",
       "                                 max_features=None, min_df=1,\n",
       "                                 ngram_range=(1, 1), preprocessor=None,\n",
       "                                 stop_words=None, strip_accents=None,\n",
       "                                 token_pattern='(?u)\\\\b\\\\w\\\\w+\\\\b',\n",
       "                                 tokenizer=None, vocabulary=None)),\n",
       "                ('tfidf',\n",
       "                 TfidfTransformer(norm='l2', smooth_idf=True,\n",
       "                                  sublinear_tf=False, use_idf=True)),\n",
       "                ('classifier',\n",
       "                 MultinomialNB(alpha=1.0, class_prior=None, fit_prior=True))],\n",
       "         verbose=False)"
      ]
     },
     "execution_count": 17,
     "metadata": {},
     "output_type": "execute_result"
    }
   ],
   "source": [
    "pipeline.fit(X_train,y_train)"
   ]
  },
  {
   "cell_type": "code",
   "execution_count": 18,
   "metadata": {},
   "outputs": [],
   "source": [
    "prediksi = pipeline.predict(X_test)"
   ]
  },
  {
   "cell_type": "code",
   "execution_count": 19,
   "metadata": {},
   "outputs": [],
   "source": [
    "from sklearn.metrics import classification_report, confusion_matrix"
   ]
  },
  {
   "cell_type": "code",
   "execution_count": 20,
   "metadata": {},
   "outputs": [
    {
     "name": "stdout",
     "output_type": "stream",
     "text": [
      "              precision    recall  f1-score   support\n",
      "\n",
      "       anger       0.55      0.87      0.68       229\n",
      "        fear       1.00      0.24      0.38       119\n",
      "       happy       0.73      0.60      0.66       214\n",
      "        love       0.91      0.36      0.52       119\n",
      "     sadness       0.46      0.61      0.52       200\n",
      "\n",
      "    accuracy                           0.59       881\n",
      "   macro avg       0.73      0.54      0.55       881\n",
      "weighted avg       0.68      0.59      0.58       881\n",
      "\n"
     ]
    }
   ],
   "source": [
    "print(classification_report(y_test,prediksi))"
   ]
  },
  {
   "cell_type": "code",
   "execution_count": 21,
   "metadata": {},
   "outputs": [
    {
     "name": "stdout",
     "output_type": "stream",
     "text": [
      "[[200   0   5   0  24]\n",
      " [ 50  28   8   1  32]\n",
      " [ 42   0 128   3  41]\n",
      " [ 11   0  15  43  50]\n",
      " [ 58   0  19   0 123]]\n"
     ]
    }
   ],
   "source": [
    "print(confusion_matrix(y_test,prediksi))"
   ]
  },
  {
   "cell_type": "code",
   "execution_count": 22,
   "metadata": {},
   "outputs": [],
   "source": [
    "multinomial_pipeline = Pipeline([\n",
    "    ('cv',CountVectorizer()),\n",
    "    ('classifier',MultinomialNB())\n",
    "])\n",
    "sgdc_pipeline = Pipeline([\n",
    "    ('cv',CountVectorizer()),\n",
    "    ('classifier',SGDClassifier(loss='hinge', penalty='l2',alpha=1e-3, random_state=42, max_iter=5, tol=None))\n",
    "])\n",
    "logreg_pipeline = Pipeline([\n",
    "    ('cv',CountVectorizer()),\n",
    "    ('scaler', StandardScaler(with_mean=False)),\n",
    "    ('classifier',LogisticRegression(solver='newton-cg',multi_class='auto'))\n",
    "])\n",
    "cnb_pipeline = Pipeline([\n",
    "    ('cv',CountVectorizer()),\n",
    "    ('classifier',ComplementNB())\n",
    "])"
   ]
  },
  {
   "cell_type": "code",
   "execution_count": 23,
   "metadata": {},
   "outputs": [
    {
     "data": {
      "text/plain": [
       "Pipeline(memory=None,\n",
       "         steps=[('cv',\n",
       "                 CountVectorizer(analyzer='word', binary=False,\n",
       "                                 decode_error='strict',\n",
       "                                 dtype=<class 'numpy.int64'>, encoding='utf-8',\n",
       "                                 input='content', lowercase=True, max_df=1.0,\n",
       "                                 max_features=None, min_df=1,\n",
       "                                 ngram_range=(1, 1), preprocessor=None,\n",
       "                                 stop_words=None, strip_accents=None,\n",
       "                                 token_pattern='(?u)\\\\b\\\\w\\\\w+\\\\b',\n",
       "                                 tokenizer=None, vocabulary=None)),\n",
       "                ('classifier',\n",
       "                 ComplementNB(alpha=1.0, class_prior=None, fit_prior=True,\n",
       "                              norm=False))],\n",
       "         verbose=False)"
      ]
     },
     "execution_count": 23,
     "metadata": {},
     "output_type": "execute_result"
    }
   ],
   "source": [
    "multinomial_pipeline.fit(X_train,y_train)\n",
    "sgdc_pipeline.fit(X_train,y_train)\n",
    "logreg_pipeline.fit(X_train,y_train)\n",
    "cnb_pipeline.fit(X_train,y_train)"
   ]
  },
  {
   "cell_type": "code",
   "execution_count": 24,
   "metadata": {},
   "outputs": [],
   "source": [
    "multinomial_prediksi = multinomial_pipeline.predict(X_test)\n",
    "sgdc_prediksi = sgdc_pipeline.predict(X_test)\n",
    "logreg_prediksi = logreg_pipeline.predict(X_test)\n",
    "cnb_prediksi = cnb_pipeline.predict(X_test)"
   ]
  },
  {
   "cell_type": "code",
   "execution_count": 25,
   "metadata": {},
   "outputs": [
    {
     "name": "stdout",
     "output_type": "stream",
     "text": [
      "Dengan menggunakan MultinomialNB\n",
      "\n",
      "\n",
      "              precision    recall  f1-score   support\n",
      "\n",
      "       anger       0.68      0.81      0.74       229\n",
      "        fear       0.67      0.61      0.64       119\n",
      "       happy       0.74      0.58      0.65       214\n",
      "        love       0.74      0.69      0.71       119\n",
      "     sadness       0.54      0.59      0.56       200\n",
      "\n",
      "    accuracy                           0.66       881\n",
      "   macro avg       0.67      0.66      0.66       881\n",
      "weighted avg       0.67      0.66      0.66       881\n",
      "\n",
      "[[185  11   7   1  25]\n",
      " [ 19  72  12   2  14]\n",
      " [ 25   6 125  18  40]\n",
      " [  4   2   7  82  24]\n",
      " [ 38  16  19   8 119]]\n"
     ]
    }
   ],
   "source": [
    "print('Dengan menggunakan MultinomialNB')\n",
    "print('\\n')\n",
    "print(classification_report(y_test,multinomial_prediksi))\n",
    "print(confusion_matrix(y_test,multinomial_prediksi))"
   ]
  },
  {
   "cell_type": "code",
   "execution_count": 26,
   "metadata": {},
   "outputs": [
    {
     "name": "stdout",
     "output_type": "stream",
     "text": [
      "Dengan menggunakan Stochastic Gradient Descent\n",
      "\n",
      "\n",
      "              precision    recall  f1-score   support\n",
      "\n",
      "       anger       0.63      0.62      0.63       229\n",
      "        fear       0.66      0.64      0.65       119\n",
      "       happy       0.61      0.70      0.65       214\n",
      "        love       0.73      0.79      0.76       119\n",
      "     sadness       0.54      0.45      0.49       200\n",
      "\n",
      "    accuracy                           0.63       881\n",
      "   macro avg       0.63      0.64      0.63       881\n",
      "weighted avg       0.62      0.63      0.62       881\n",
      "\n",
      "[[142  16  29   5  37]\n",
      " [ 16  76  17   1   9]\n",
      " [ 20  10 150  10  24]\n",
      " [  6   3   9  94   7]\n",
      " [ 41  10  41  19  89]]\n"
     ]
    }
   ],
   "source": [
    "print('Dengan menggunakan Stochastic Gradient Descent')\n",
    "print('\\n')\n",
    "print(classification_report(y_test,sgdc_prediksi))\n",
    "print(confusion_matrix(y_test,sgdc_prediksi))"
   ]
  },
  {
   "cell_type": "code",
   "execution_count": 27,
   "metadata": {},
   "outputs": [
    {
     "name": "stdout",
     "output_type": "stream",
     "text": [
      "Dengan menggunakan Logistic Regression\n",
      "\n",
      "\n",
      "              precision    recall  f1-score   support\n",
      "\n",
      "       anger       0.63      0.73      0.68       229\n",
      "        fear       0.68      0.56      0.61       119\n",
      "       happy       0.62      0.55      0.58       214\n",
      "        love       0.62      0.67      0.64       119\n",
      "     sadness       0.48      0.47      0.47       200\n",
      "\n",
      "    accuracy                           0.60       881\n",
      "   macro avg       0.60      0.60      0.60       881\n",
      "weighted avg       0.60      0.60      0.59       881\n",
      "\n",
      "[[168  11  15   7  28]\n",
      " [ 22  67   7   2  21]\n",
      " [ 30   4 117  27  36]\n",
      " [  5   3  14  80  17]\n",
      " [ 42  14  36  14  94]]\n"
     ]
    }
   ],
   "source": [
    "print('Dengan menggunakan Logistic Regression')\n",
    "print('\\n')\n",
    "print(classification_report(y_test,logreg_prediksi))\n",
    "print(confusion_matrix(y_test,logreg_prediksi))"
   ]
  },
  {
   "cell_type": "code",
   "execution_count": 28,
   "metadata": {},
   "outputs": [
    {
     "name": "stdout",
     "output_type": "stream",
     "text": [
      "Dengan menggunakan ComplementNB\n",
      "\n",
      "\n",
      "              precision    recall  f1-score   support\n",
      "\n",
      "       anger       0.67      0.81      0.73       229\n",
      "        fear       0.60      0.72      0.65       119\n",
      "       happy       0.72      0.57      0.64       214\n",
      "        love       0.60      0.79      0.68       119\n",
      "     sadness       0.60      0.40      0.48       200\n",
      "\n",
      "    accuracy                           0.64       881\n",
      "   macro avg       0.64      0.66      0.64       881\n",
      "weighted avg       0.65      0.64      0.64       881\n",
      "\n",
      "[[185  17   8   7  12]\n",
      " [ 16  86   6   3   8]\n",
      " [ 29   7 123  30  25]\n",
      " [  4   5   8  94   8]\n",
      " [ 43  29  25  23  80]]\n"
     ]
    }
   ],
   "source": [
    "print('Dengan menggunakan ComplementNB')\n",
    "print('\\n')\n",
    "print(classification_report(y_test,cnb_prediksi))\n",
    "print(confusion_matrix(y_test,cnb_prediksi))"
   ]
  },
  {
   "cell_type": "code",
   "execution_count": 30,
   "metadata": {},
   "outputs": [],
   "source": [
    "tweet = [\"Soal 'mantan'.Jadi gimana? Masih mikirin mantan?\"]\n",
    "prediksi_test_cnb = multinomial_pipeline.predict(tweet)"
   ]
  },
  {
   "cell_type": "code",
   "execution_count": 31,
   "metadata": {},
   "outputs": [
    {
     "data": {
      "text/plain": [
       "array(['sadness'], dtype='<U7')"
      ]
     },
     "execution_count": 31,
     "metadata": {},
     "output_type": "execute_result"
    }
   ],
   "source": [
    "prediksi_test_cnb"
   ]
  },
  {
   "cell_type": "code",
   "execution_count": 32,
   "metadata": {},
   "outputs": [
    {
     "data": {
      "text/plain": [
       "array([[0.17668664, 0.08828539, 0.01820381, 0.0026726 , 0.71415156]])"
      ]
     },
     "execution_count": 32,
     "metadata": {},
     "output_type": "execute_result"
    }
   ],
   "source": [
    "multinomial_pipeline.predict_proba(tweet)"
   ]
  },
  {
   "cell_type": "code",
   "execution_count": 33,
   "metadata": {},
   "outputs": [
    {
     "data": {
      "text/plain": [
       "array([0. , 0.2, 0.4, 0.6, 0.8])"
      ]
     },
     "execution_count": 33,
     "metadata": {},
     "output_type": "execute_result"
    }
   ],
   "source": [
    "np.arange(0,1,.2)"
   ]
  },
  {
   "cell_type": "code",
   "execution_count": 35,
   "metadata": {},
   "outputs": [],
   "source": [
    "grafik_value = multinomial_pipeline.predict_proba(tweet)"
   ]
  },
  {
   "cell_type": "code",
   "execution_count": 36,
   "metadata": {},
   "outputs": [
    {
     "data": {
      "text/plain": [
       "0.0882853943767773"
      ]
     },
     "execution_count": 36,
     "metadata": {},
     "output_type": "execute_result"
    }
   ],
   "source": [
    "grafik_value[0][1]"
   ]
  },
  {
   "cell_type": "code",
   "execution_count": 37,
   "metadata": {},
   "outputs": [],
   "source": [
    "grafik_value = pd.Series(grafik_value[0])"
   ]
  },
  {
   "cell_type": "code",
   "execution_count": 38,
   "metadata": {},
   "outputs": [],
   "source": [
    "nama_grafik = pd.Series(['anger','fear','happiness','love','sad'])"
   ]
  },
  {
   "cell_type": "code",
   "execution_count": 39,
   "metadata": {},
   "outputs": [
    {
     "data": {
      "text/plain": [
       "<matplotlib.legend.Legend at 0x21d930d5048>"
      ]
     },
     "execution_count": 39,
     "metadata": {},
     "output_type": "execute_result"
    },
    {
     "data": {
      "image/png": "[encoded data removed]",
      "text/plain": [
       "<Figure size 432x288 with 1 Axes>"
      ]
     },
     "metadata": {},
     "output_type": "display_data"
    }
   ],
   "source": [
    "plt.pie(x=grafik_value,autopct='%.3f')\n",
    "plt.legend(nama_grafik)"
   ]
  },
  {
   "cell_type": "code",
   "execution_count": null,
   "metadata": {},
   "outputs": [],
   "source": [
    "# alternatif perkecil target jadi emosi positif atau emosi negatif"
   ]
  },
  {
   "cell_type": "code",
   "execution_count": 41,
   "metadata": {},
   "outputs": [
    {
     "name": "stdout",
     "output_type": "stream",
     "text": [
      "0.6617480136208853\n"
     ]
    }
   ],
   "source": [
    "print(multinomial_pipeline.score(X_test,y_test))"
   ]
  }
 ],
 "metadata": {
  "kernelspec": {
   "display_name": "Python 3",
   "language": "python",
   "name": "python3"
  },
  "language_info": {
   "codemirror_mode": {
    "name": "ipython",
    "version": 3
   },
   "file_extension": ".py",
   "mimetype": "text/x-python",
   "name": "python",
   "nbconvert_exporter": "python",
   "pygments_lexer": "ipython3",
   "version": "3.7.3"
  }
 },
 "nbformat": 4,
 "nbformat_minor": 2
}
